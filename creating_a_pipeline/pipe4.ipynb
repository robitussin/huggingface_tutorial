{
 "cells": [
  {
   "cell_type": "code",
   "execution_count": 3,
   "metadata": {},
   "outputs": [],
   "source": [
    "from transformers import pipeline"
   ]
  },
  {
   "cell_type": "code",
   "execution_count": 4,
   "metadata": {},
   "outputs": [
    {
     "data": {
      "application/vnd.jupyter.widget-view+json": {
       "model_id": "8c6b7d46516e49809cd57b72156ea72f",
       "version_major": 2,
       "version_minor": 0
      },
      "text/plain": [
       "Downloading (…)lve/main/config.json:   0%|          | 0.00/1.58k [00:00<?, ?B/s]"
      ]
     },
     "metadata": {},
     "output_type": "display_data"
    },
    {
     "name": "stderr",
     "output_type": "stream",
     "text": [
      "'(ReadTimeoutError(\"HTTPSConnectionPool(host='cdn-lfs.huggingface.co', port=443): Read timed out. (read timeout=10.0)\"), '(Request ID: cd8a0ab7-dec7-4fba-9dec-997b83311771)')' thrown while requesting GET https://cdn-lfs.huggingface.co/facebook/bart-large-cnn/2ac2745c02ac987d82c78a14b426de58d5e4178ae8039ba1c6881eccff3e82f1?response-content-disposition=attachment%3B+filename*%3DUTF-8%27%27pytorch_model.bin%3B+filename%3D%22pytorch_model.bin%22%3B&response-content-type=application%2Foctet-stream&Expires=1690618560&Policy=eyJTdGF0ZW1lbnQiOlt7IkNvbmRpdGlvbiI6eyJEYXRlTGVzc1RoYW4iOnsiQVdTOkVwb2NoVGltZSI6MTY5MDYxODU2MH19LCJSZXNvdXJjZSI6Imh0dHBzOi8vY2RuLWxmcy5odWdnaW5nZmFjZS5jby9mYWNlYm9vay9iYXJ0LWxhcmdlLWNubi8yYWMyNzQ1YzAyYWM5ODdkODJjNzhhMTRiNDI2ZGU1OGQ1ZTQxNzhhZTgwMzliYTFjNjg4MWVjY2ZmM2U4MmYxP3Jlc3BvbnNlLWNvbnRlbnQtZGlzcG9zaXRpb249KiZyZXNwb25zZS1jb250ZW50LXR5cGU9KiJ9XX0_&Signature=FxTtWVbqxX4DMYLNgZtkyghtkfUWCZTmRWgncPYb1J51GAhmyAn1DTRolVzKzJvKz1oO6LACZf4MtpQquQI4uZAfBIjN4HkFzwMDCHYmBCFA4i%7EP48F%7EtnpjHfyJvcqEaWNc-8CuiBHXx4kAujbuUEzDyWs9SzdZcGqJMfp5gZkrcfcvvTBblcTXsagQJdE-%7E15YOm6lKXaMFMtSYXu0WZswvjJdXW1XbzyxlfwfMnAZ-sTPrBsJPLDr03cZNpw8t8SQe18GeXzM01p1N5rJnY-MtbhCHdTqwAliwXucpIrHdHY2MA93Jk%7EDGiZBXH2TOkeyAipDScIoqKCS8q2e3A__&Key-Pair-Id=KVTP0A1DKRTAX\n"
     ]
    },
    {
     "data": {
      "application/vnd.jupyter.widget-view+json": {
       "model_id": "69266308b4994521af2bfee7a0004bb4",
       "version_major": 2,
       "version_minor": 0
      },
      "text/plain": [
       "Downloading pytorch_model.bin:   0%|          | 0.00/1.63G [00:00<?, ?B/s]"
      ]
     },
     "metadata": {},
     "output_type": "display_data"
    },
    {
     "data": {
      "application/vnd.jupyter.widget-view+json": {
       "model_id": "dab61c5710694e68b0d4fbd49c905d15",
       "version_major": 2,
       "version_minor": 0
      },
      "text/plain": [
       "Downloading (…)neration_config.json:   0%|          | 0.00/363 [00:00<?, ?B/s]"
      ]
     },
     "metadata": {},
     "output_type": "display_data"
    },
    {
     "data": {
      "application/vnd.jupyter.widget-view+json": {
       "model_id": "7d031cb70e844bf0b6dac3c328736a9a",
       "version_major": 2,
       "version_minor": 0
      },
      "text/plain": [
       "Downloading (…)olve/main/vocab.json:   0%|          | 0.00/899k [00:00<?, ?B/s]"
      ]
     },
     "metadata": {},
     "output_type": "display_data"
    },
    {
     "data": {
      "application/vnd.jupyter.widget-view+json": {
       "model_id": "22cfa559a3674457b07cf12006998ec2",
       "version_major": 2,
       "version_minor": 0
      },
      "text/plain": [
       "Downloading (…)olve/main/merges.txt:   0%|          | 0.00/456k [00:00<?, ?B/s]"
      ]
     },
     "metadata": {},
     "output_type": "display_data"
    },
    {
     "data": {
      "application/vnd.jupyter.widget-view+json": {
       "model_id": "47000b9a5dcb447ea1e00cd30f89b23b",
       "version_major": 2,
       "version_minor": 0
      },
      "text/plain": [
       "Downloading (…)/main/tokenizer.json:   0%|          | 0.00/1.36M [00:00<?, ?B/s]"
      ]
     },
     "metadata": {},
     "output_type": "display_data"
    }
   ],
   "source": [
    "summarizer = pipeline(\"summarization\", model=\"facebook/bart-large-cnn\")"
   ]
  },
  {
   "cell_type": "code",
   "execution_count": 5,
   "metadata": {},
   "outputs": [],
   "source": [
    "text = \"\"\" The Pentagon has announced another security assistance package for Ukraine worth $400 million, including air defense and anti-tank missiles. Anatoly Antonov, Russia’s ambassador to the US, called the decision “beyond morality and common sense.”\n",
    "\n",
    "According to a statement released by the Defense Department on Tuesday, the new batch of US military aid features additional munitions for Patriot and National Advanced Surface-to-Air Missile Systems (NASAMS), Stinger anti-aircraft and Javelin anti-tank systems, HIMARS missiles, as well as artillery and mortar rounds. It also contains 32 Stryker armored personnel carriers, Hornet drones, and other military equipment.\n",
    "\n",
    "Antonov blasted the decision, saying “the actions by Washington, which continues to pump its Ukrainian puppets with weapons, are beyond morality and common sense.”\n",
    "\n",
    "He claimed that while Washington seeks to portray itself as Kiev’s “selfless benefactor,” in practice it only strives for “more human suffering and deaths.\n",
    "\n",
    "The Russian ambassador accused the Americans of “sponsoring the terrorist plans of the Kiev criminals,” including a drone strike on the Crimean Bridge earlier this month that killed a married Russian couple and injured their teenage daughter.\n",
    "\n",
    "“How many more American Bradleys must burn for the US leadership to finally realize that attempts to defeat our country ‘on the battlefield’ will lead to only one thing – the inglorious defeat of Russophobes?” he said.\n",
    "\n",
    "Since the start of the Ukraine conflict in February 2022, the US has emerged as Kiev’s main backer in terms of military assistance, which has reached more than $43 billion. Russia has repeatedly warned that Western arms shipments will only prolong the conflict while making NATO countries direct participants in the hostilities.”\"\"\""
   ]
  },
  {
   "cell_type": "code",
   "execution_count": 6,
   "metadata": {},
   "outputs": [
    {
     "name": "stdout",
     "output_type": "stream",
     "text": [
      "[{'summary_text': 'The Russian government has announced plans to increase the number of Russian troops in the Middle East. The move is aimed at countering the threat posed by the Islamic State of Iraq and Syria.'}]\n"
     ]
    }
   ],
   "source": [
    "print(summarizer(text, max_length=130, min_length=30, do_sample=False))"
   ]
  }
 ],
 "metadata": {
  "kernelspec": {
   "display_name": "llama",
   "language": "python",
   "name": "python3"
  },
  "language_info": {
   "codemirror_mode": {
    "name": "ipython",
    "version": 3
   },
   "file_extension": ".py",
   "mimetype": "text/x-python",
   "name": "python",
   "nbconvert_exporter": "python",
   "pygments_lexer": "ipython3",
   "version": "3.11.4"
  },
  "orig_nbformat": 4
 },
 "nbformat": 4,
 "nbformat_minor": 2
}
